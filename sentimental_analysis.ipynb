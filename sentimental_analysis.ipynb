{
 "cells": [
  {
   "cell_type": "markdown",
   "metadata": {
    "collapsed": true
   },
   "source": [
    "# 한글 text mining\n"
   ]
  },
  {
   "cell_type": "code",
   "execution_count": null,
   "metadata": {},
   "outputs": [],
   "source": [
    "import sys\n",
    "print(sys.version)"
   ]
  },
  {
   "cell_type": "markdown",
   "metadata": {},
   "source": [
    "# 1. 패키지 설치"
   ]
  },
  {
   "cell_type": "markdown",
   "metadata": {},
   "source": [
    "### http://konlpy.org 에 접속하여 java 등 필요한 프로그램을 설치한다.\n",
    "\n"
   ]
  },
  {
   "cell_type": "markdown",
   "metadata": {},
   "source": [
    "### 참고 사이트\n",
    "\n",
    "http://www.lifebloom.biz/2017/07/04/python%EC%9D%84-%ED%99%9C%EC%9A%A9%ED%95%9C-%ED%85%8D%EC%8A%A4%ED%8A%B8-%EB%A7%88%EC%9D%B4%EB%8B%9D-1-%EB%AA%A8%EB%93%88%EC%84%A4%EC%B9%98/"
   ]
  },
  {
   "cell_type": "markdown",
   "metadata": {},
   "source": [
    "### pip install beautifulsoup4\n",
    "\n",
    "### pip install pygame\n",
    "\n",
    "### pip install simplejson\n",
    "\n",
    "### pip install -U pytagcloud\n",
    "\n"
   ]
  },
  {
   "cell_type": "markdown",
   "metadata": {},
   "source": [
    "<br><br>\n",
    "# 2. 데이터 수집 (Web Scraping)\n",
    "\n",
    "* 텍스트를 분석 역시 일반적인 데이터 분석처럼 데이터 수집 -> 데이터 전처리 -> EDA -> 데이터 분석 -> knowledge 도출의 단계를 거칩니다. \n",
    "* 하지만 unstructured data인 관계로 데이터의 수집과 전처리 과정에서 큰 차이가 나타납니다.\n",
    "* movie.daum.net의 영화 리뷰 댓글을 이용해서 데이터를 수집 하기로 하자.\n"
   ]
  },
  {
   "cell_type": "markdown",
   "metadata": {},
   "source": [
    "* 기본적으로 윈도우 환경의 Python은 ANSI 형식을 따르기 때문에 한글이 깨지는 경우가 발생한다. \n",
    "* 그래서 Jupyter notebook에서는 맨 처음 code 셀 에   아래와 같이 입력하여 기본 인코딩 형식을 utf-8로 바꾸어야 텍스트를 불러왔을때 깨지지 않게 된다."
   ]
  },
  {
   "cell_type": "markdown",
   "metadata": {
    "collapsed": true
   },
   "source": [
    "#-*- coding: utf-8 -*-"
   ]
  },
  {
   "cell_type": "markdown",
   "metadata": {},
   "source": [
    "<br>\n",
    "* 필요한 모듈 설치"
   ]
  },
  {
   "cell_type": "code",
   "execution_count": null,
   "metadata": {},
   "outputs": [],
   "source": [
    "from urllib.request import urlopen\n",
    "\n",
    "from bs4 import BeautifulSoup\n",
    "import pandas as pd"
   ]
  },
  {
   "cell_type": "markdown",
   "metadata": {},
   "source": [
    "<br>\n",
    "* 먼저 movie.daum.net의 리뷰 댓글들중 한 페이지를 불러오자."
   ]
  },
  {
   "cell_type": "markdown",
   "metadata": {
    "collapsed": true
   },
   "source": [
    "<br>\n",
    "* urlopen을 이용해 url주소의 리뷰 데이터를 객체에 저장하자."
   ]
  },
  {
   "cell_type": "markdown",
   "metadata": {
    "collapsed": true
   },
   "source": [
    "<br>\n",
    "* html.parser를 사용하여 HTML 문을 텍스트 형태로 변환하자."
   ]
  },
  {
   "cell_type": "markdown",
   "metadata": {
    "collapsed": true
   },
   "source": [
    "<br>\n",
    "* 페이지 2의 리뷰들을 모두 추출했다.\n",
    "* 이제, for문을 통해 url을 리스트 형식으로 만들어 여러 페이지의 데이터를 추출하자."
   ]
  },
  {
   "cell_type": "code",
   "execution_count": null,
   "metadata": {},
   "outputs": [],
   "source": [
    "review_list=[]\n",
    "for n in range(2):\n",
    "    #url = 'http://movie.daum.net/moviedb/grade?movieId=110929&type=netizen&page={}'.format(n+1)\n",
    "    url = 'http://movie.daum.net/moviedb/grade?movieId=97728&type=netizen&page={}'.format(n+1)\n",
    "    \n",
    "    webpage = urlopen(url)\n",
    "    source = BeautifulSoup(webpage,'html.parser',from_encoding='utf-8')    \n",
    "    review_info= source.findAll('div', {'class': 'review_info'})\n",
    "\n",
    "    for review_long in review_info:       \n",
    "        glade = review_long.find('em', {'class': 'emph_grade'}) \n",
    "        glade2= glade.get_text().strip()\n",
    "        \n",
    "        review = review_long.find('p', {'class': 'desc_review'})   \n",
    "        comment=review.get_text().strip().replace('\\n',\"\").replace('\\t',\"\").replace('\\r',\"\")\n",
    "        \n",
    "        if comment=='' or comment=='.':\n",
    "            pass\n",
    "        elif int(glade2) > 0 and int(glade2) < 10:\n",
    "            review_list.append((int(glade2),comment))\n",
    "        \n",
    "\n",
    "print(review_list)\n",
    "print(type(review_list[0]))\n",
    "reviews_pd=pd.DataFrame(review_list, columns=['rate','comment'])"
   ]
  },
  {
   "cell_type": "code",
   "execution_count": null,
   "metadata": {},
   "outputs": [],
   "source": [
    "reviews_pd.head()"
   ]
  },
  {
   "cell_type": "code",
   "execution_count": null,
   "metadata": {},
   "outputs": [],
   "source": [
    "with open('reviews.csv','w') as f:\n",
    "    reviews_pd.to_csv(f, index=False)\n",
    "f.close()"
   ]
  },
  {
   "cell_type": "markdown",
   "metadata": {
    "collapsed": true
   },
   "source": [
    "<br><br>\n",
    "# 3. 텍스트 전처리 (Preprocessing)"
   ]
  },
  {
   "cell_type": "markdown",
   "metadata": {
    "collapsed": true
   },
   "source": [
    "<br>\n",
    "* 앞에서 저장했던 review.csv 화일을 읽어 들이자."
   ]
  },
  {
   "cell_type": "code",
   "execution_count": null,
   "metadata": {},
   "outputs": [],
   "source": [
    "\n",
    "reviews2_pd=pd.read_csv('reviews.csv',encoding='cp949')\n",
    "#reviews_pd=pd.read_csv('reviews.csv',encoding='cp949' )\n",
    "#reviews_pd=pd.read_csv('review.csv',encode='utf-8' )"
   ]
  },
  {
   "cell_type": "code",
   "execution_count": null,
   "metadata": {},
   "outputs": [],
   "source": [
    "print(reviews2_pd)"
   ]
  },
  {
   "cell_type": "code",
   "execution_count": null,
   "metadata": {},
   "outputs": [],
   "source": [
    "print(reviews2_pd[\"comment\"])"
   ]
  },
  {
   "cell_type": "code",
   "execution_count": null,
   "metadata": {},
   "outputs": [],
   "source": [
    "comments=reviews2_pd[\"comment\"]"
   ]
  },
  {
   "cell_type": "markdown",
   "metadata": {},
   "source": [
    "# 아래 셀은 테스트 셋을 읽기 위함 임."
   ]
  },
  {
   "cell_type": "markdown",
   "metadata": {
    "collapsed": true
   },
   "source": [
    "reviews2_pd=pd.read_csv('test.csv',encoding='cp949')\n",
    "comments=reviews2_pd[\"comment\"]"
   ]
  },
  {
   "cell_type": "markdown",
   "metadata": {
    "collapsed": true
   },
   "source": [
    "### 감성분석"
   ]
  },
  {
   "cell_type": "code",
   "execution_count": null,
   "metadata": {},
   "outputs": [],
   "source": [
    "import csv\n",
    "with open(\"dic/polarity.txt\", \"r\", encoding='UTF8') as polarity:\n",
    "    dic = []\n",
    "    cr = csv.reader(polarity)\n",
    "    for row in cr:\n",
    "        dic.append(row)"
   ]
  },
  {
   "cell_type": "code",
   "execution_count": null,
   "metadata": {},
   "outputs": [],
   "source": [
    "df=pd.DataFrame(dic[1:],columns=dic[0])"
   ]
  },
  {
   "cell_type": "code",
   "execution_count": null,
   "metadata": {},
   "outputs": [],
   "source": [
    "#import socket, sys, json\n",
    "from konlpy.tag import Kkma\n",
    "from konlpy.utils import pprint\n"
   ]
  },
  {
   "cell_type": "code",
   "execution_count": null,
   "metadata": {},
   "outputs": [],
   "source": [
    "kkma = Kkma()"
   ]
  },
  {
   "cell_type": "code",
   "execution_count": null,
   "metadata": {},
   "outputs": [],
   "source": [
    "pprint(kkma.pos(\"가까이\"))\n"
   ]
  },
  {
   "cell_type": "code",
   "execution_count": null,
   "metadata": {},
   "outputs": [],
   "source": [
    "polarity_dict={}\n",
    "for ele in dic[1:]:\n",
    "    #print(ele)\n",
    "    #print(ele[0])\n",
    "    #print(ele[1:])\n",
    "    polarity_dict[ele[0]]=ele[1:]"
   ]
  },
  {
   "cell_type": "code",
   "execution_count": null,
   "metadata": {},
   "outputs": [],
   "source": [
    "print(polarity_dict)"
   ]
  },
  {
   "cell_type": "code",
   "execution_count": null,
   "metadata": {},
   "outputs": [],
   "source": [
    "reviews2_pd"
   ]
  },
  {
   "cell_type": "code",
   "execution_count": null,
   "metadata": {},
   "outputs": [],
   "source": [
    "comments"
   ]
  },
  {
   "cell_type": "code",
   "execution_count": null,
   "metadata": {},
   "outputs": [],
   "source": [
    "sentiments=[]\n",
    "n=0\n",
    "for text in comments:\n",
    "    print(n)\n",
    "    print(text)\n",
    "    n=n+1\n",
    "    kkma = Kkma()\n",
    "    #pprint(kkma.pos(text))\n",
    "    tokens = kkma.pos(text)\n",
    "    score = []\n",
    "    neg = 0\n",
    "    neut = 0\n",
    "    none = 0\n",
    "    pos = 0\n",
    "    i=0 # current location  \n",
    "    m=0\n",
    "    #print(\"tokens\",tokens)\n",
    "    token_pos=[]\n",
    "    for token in tokens:\n",
    "        token_pos.append(\"/\".join(token))\n",
    "\n",
    "    #print(token_pos)    \n",
    "    num=len(token_pos)  \n",
    "    #print(num)\n",
    "\n",
    "    neg=0\n",
    "    neut=0\n",
    "    non=0\n",
    "    pos=0\n",
    "\n",
    "    while True:\n",
    "        #print(i)\n",
    "        if i+3 <= num:\n",
    "            try: \n",
    "                #print(\";\".join(token_pos[i:i+3]))\n",
    "                x=polarity_dict[\";\".join(token_pos[i:i+3])]\n",
    "                m=3\n",
    "                #print(\"AAAA\")\n",
    "            except:\n",
    "                try:\n",
    "                    #print(\";\".join(token_pos[i:i+2]))\n",
    "                    x=polarity_dict[\";\".join(token_pos[i:i+2])]\n",
    "                    m=2\n",
    "                    #print(\"BBB\")\n",
    "                except:\n",
    "                    try:\n",
    "                        x=polarity_dict[token_pos[i]]\n",
    "                        m=1\n",
    "                        #print(\"CCC\")\n",
    "                    except:\n",
    "                        m=0\n",
    "                        #print(\"DDD\")\n",
    "        elif i+2 <= num:\n",
    "            try: \n",
    "                #print(\";\".join(token_pos[i:i+2]))\n",
    "                x=polarity_dict[\";\".join(token_pos[i:i+2])]\n",
    "                m=2\n",
    "                #print(\"EEE\")\n",
    "            except:\n",
    "                try:\n",
    "                    #print(\";\".join(token_pos[i]))\n",
    "                    x=polarity_dict[\";\".join(token_pos[i])]\n",
    "                    m=1\n",
    "                    #print(\"FFF\")\n",
    "                except:\n",
    "                    m=0\n",
    "                    #print(\"GGG\")\n",
    "\n",
    "        elif i+1 <= num:\n",
    "            try:\n",
    "                #print(\";\".join(token_pos[i]))\n",
    "                x=polarity_dict[\";\".join(token_pos[i])]\n",
    "                m=1\n",
    "                #print(\"HHH\")\n",
    "            except:\n",
    "                m=0\n",
    "                #print(\"III\")\n",
    "        else:\n",
    "            print(\"STOP !!!!\")\n",
    "            break\n",
    "\n",
    "        if m > 0:\n",
    "            item=polarity_dict[\";\".join(token_pos[i: i+m])]\n",
    "            #print(item)\n",
    "            neg += float(item[2]) * float(item[7])\n",
    "            neut += float(item[3]) * float(item[7])\n",
    "            none += float(item[4]) * float(item[7])\n",
    "            pos += float(item[5]) * float(item[7])\n",
    "            i=i+m\n",
    "        else:\n",
    "            i += 1\n",
    "\n",
    "        #print(neg,neut,non,pos)    \n",
    "        #print(\"m=\",m)   \n",
    "        #print(\"i=\",i)\n",
    "\n",
    "\n",
    "\n",
    "\n",
    "    #print(neg,neut,non,pos)    \n",
    "    #print(\"m=\",m)   \n",
    "    score=[]\n",
    "    total = neg + neut + none + pos\n",
    "    if total == 0:\n",
    "        total = 1\n",
    "    score.append(round(pos / total,2))\n",
    "    score.append(round((neut+none)/total,2))\n",
    "    score.append(round(neg / total,2))\n",
    "    print(\"*********************************\")\n",
    "    print(text)\n",
    "    print(\"긍정 :\",  score[0] ,\"중립\", score[1], \"부정 :\" , score[2])\n",
    "    if score[0] >= 0.7:\n",
    "        print(\"Positive\")\n",
    "    elif score[0] < 0.4:\n",
    "        print(\"Negative\")\n",
    "    else:\n",
    "        print(\"Neutral\")\n",
    "    sentiments.append((score[0],score[1],score[2]))\n",
    "print(sentiments)"
   ]
  },
  {
   "cell_type": "code",
   "execution_count": null,
   "metadata": {},
   "outputs": [],
   "source": [
    "\n",
    "\n",
    "reviews2_pd.insert(loc=1, column='sentiment2', value=sentiments)"
   ]
  },
  {
   "cell_type": "code",
   "execution_count": null,
   "metadata": {
    "scrolled": true
   },
   "outputs": [],
   "source": [
    "reviews2_pd"
   ]
  },
  {
   "cell_type": "code",
   "execution_count": null,
   "metadata": {},
   "outputs": [],
   "source": [
    "sentiment_pred=[]\n",
    "for pos, neu, neg in reviews2_pd[\"sentiment2\"]:\n",
    "    max_val=max(pos,neu,neg)\n",
    "    if max_val==pos:\n",
    "        s=2\n",
    "    elif max_val==neu:\n",
    "        s=1\n",
    "    else:\n",
    "        s=0\n",
    "    sentiment_pred.append(s)\n",
    "\n",
    "print(sentiment_pred)\n",
    "    "
   ]
  },
  {
   "cell_type": "code",
   "execution_count": null,
   "metadata": {},
   "outputs": [],
   "source": [
    "reviews2_pd['sentiment_pred']=sentiment_pred"
   ]
  },
  {
   "cell_type": "code",
   "execution_count": null,
   "metadata": {},
   "outputs": [],
   "source": [
    "reviews2_pd"
   ]
  },
  {
   "cell_type": "markdown",
   "metadata": {},
   "source": [
    "## 결과를 csv 화일에 쓰기"
   ]
  },
  {
   "cell_type": "code",
   "execution_count": null,
   "metadata": {},
   "outputs": [],
   "source": [
    "reviews2_pd['sentiment_pred'].to_csv('result_1.csv', index=False)"
   ]
  },
  {
   "cell_type": "markdown",
   "metadata": {},
   "source": [
    "<br>\n",
    "<br>\n",
    "# 비교 검토"
   ]
  },
  {
   "cell_type": "code",
   "execution_count": null,
   "metadata": {},
   "outputs": [],
   "source": [
    "sentiment_real = ((reviews2_pd['rate']-1)//3)"
   ]
  },
  {
   "cell_type": "code",
   "execution_count": null,
   "metadata": {},
   "outputs": [],
   "source": [
    "sentiment_real"
   ]
  },
  {
   "cell_type": "markdown",
   "metadata": {},
   "source": [
    "## 감성 예측 정확도"
   ]
  },
  {
   "cell_type": "code",
   "execution_count": null,
   "metadata": {},
   "outputs": [],
   "source": [
    "sum(sentiment_real==sentiment_pred)"
   ]
  },
  {
   "cell_type": "markdown",
   "metadata": {},
   "source": [
    "## 감성 예측 에러"
   ]
  },
  {
   "cell_type": "code",
   "execution_count": null,
   "metadata": {},
   "outputs": [],
   "source": [
    "sum(abs(sentiment_real-sentiment_pred))"
   ]
  }
 ],
 "metadata": {
  "anaconda-cloud": {},
  "kernelspec": {
   "display_name": "Python 3",
   "language": "python",
   "name": "python3"
  },
  "language_info": {
   "codemirror_mode": {
    "name": "ipython",
    "version": 3
   },
   "file_extension": ".py",
   "mimetype": "text/x-python",
   "name": "python",
   "nbconvert_exporter": "python",
   "pygments_lexer": "ipython3",
   "version": "3.6.4"
  }
 },
 "nbformat": 4,
 "nbformat_minor": 2
}
